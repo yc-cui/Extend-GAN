{
 "cells": [
  {
   "cell_type": "code",
   "execution_count": 15,
   "metadata": {},
   "outputs": [],
   "source": [
    "import cv2\n",
    "import os\n",
    "import random"
   ]
  },
  {
   "cell_type": "code",
   "execution_count": 16,
   "metadata": {},
   "outputs": [],
   "source": [
    "os.chdir('/data/cyc/dataset/test')"
   ]
  },
  {
   "cell_type": "code",
   "execution_count": 17,
   "metadata": {},
   "outputs": [],
   "source": [
    "\n",
    "\n",
    "def resize_crop(image_path, size=(512, 512), crop_size=(256, 256), x=None, y=None):\n",
    "    image = cv2.imread(image_path)\n",
    "    image = cv2.resize(image, size)\n",
    "    if x is None:\n",
    "        x = random.randint(0, size[0]-crop_size[0])\n",
    "    if y is None:\n",
    "        y = random.randint(0, size[1]-crop_size[1])\n",
    "    crop = image[y:y+crop_size[1], x:x+crop_size[0]]\n",
    "\n",
    "    return crop, x, y\n",
    "\n",
    "source_path = 'test.flist'\n",
    "crop_source_path = 'test_crop_source.flist'\n",
    "\n",
    "crop_source_list = []\n",
    "crop_ref_list = []\n",
    "\n",
    "if not os.path.exists(\"test_crop_source\"):\n",
    "    os.makedirs(\"test_crop_source\")\n",
    "    \n",
    "if not os.path.exists(\"test_crop_ref\"):\n",
    "    os.makedirs(\"test_crop_ref\")\n",
    "\n",
    "with open(source_path, 'r') as f:\n",
    "    for i, line in enumerate(f.readlines()):\n",
    "        line = line.strip()\n",
    "        ref_path = line.replace('source', 'ref')\n",
    "        for j in range(5):\n",
    "            source_crop, x, y = resize_crop(line)\n",
    "            ref_crop, *_ = resize_crop(ref_path, x=x, y=y)\n",
    "            basename = f\"{os.path.basename(line)[:-4]}_{j}.tif\"\n",
    "            crop_source_name = os.path.join('test_crop_source', basename)\n",
    "            cv2.imwrite(crop_source_name, source_crop)\n",
    "            crop_source_list.append(os.path.abspath(crop_source_name))\n",
    "            crop_ref_name = os.path.join('test_crop_ref', basename)\n",
    "            cv2.imwrite(crop_ref_name, ref_crop)\n",
    "\n",
    "\n"
   ]
  },
  {
   "cell_type": "code",
   "execution_count": 18,
   "metadata": {},
   "outputs": [],
   "source": [
    "with open(crop_source_path, 'w') as f:\n",
    "    f.write('\\n'.join(crop_source_list))"
   ]
  }
 ],
 "metadata": {
  "kernelspec": {
   "display_name": "cunet",
   "language": "python",
   "name": "python3"
  },
  "language_info": {
   "codemirror_mode": {
    "name": "ipython",
    "version": 3
   },
   "file_extension": ".py",
   "mimetype": "text/x-python",
   "name": "python",
   "nbconvert_exporter": "python",
   "pygments_lexer": "ipython3",
   "version": "3.9.16"
  },
  "orig_nbformat": 4
 },
 "nbformat": 4,
 "nbformat_minor": 2
}
